{
 "cells": [
  {
   "cell_type": "code",
   "execution_count": 4,
   "metadata": {},
   "outputs": [],
   "source": [
    "import numpy as np\n",
    "import pandas as pd\n",
    "import matplotlib.pyplot as plt\n",
    "from keras.models import Sequential\n",
    "from keras.layers import Dense, Activation, Convolution2D, Reshape, Flatten, MaxPooling2D, Dropout\n",
    "from keras.utils import np_utils\n",
    "\n",
    "%matplotlib inline"
   ]
  },
  {
   "cell_type": "code",
   "execution_count": 5,
   "metadata": {},
   "outputs": [
    {
     "name": "stdout",
     "output_type": "stream",
     "text": [
      "(35887, 3)\n"
     ]
    }
   ],
   "source": [
    "dataset = pd.read_csv('./Dataset/fer2013.csv')\n",
    "print(dataset.shape)"
   ]
  },
  {
   "cell_type": "code",
   "execution_count": 7,
   "metadata": {},
   "outputs": [
    {
     "name": "stdout",
     "output_type": "stream",
     "text": [
      "emotion                                                    0\n",
      "pixels     70 80 82 72 58 58 60 63 54 58 60 48 89 115 121...\n",
      "Usage                                               Training\n",
      "Name: 0, dtype: object\n"
     ]
    }
   ],
   "source": [
    "#exploring dataset\n",
    "print(dataset.iloc[0])"
   ]
  },
  {
   "cell_type": "code",
   "execution_count": 8,
   "metadata": {},
   "outputs": [
    {
     "name": "stdout",
     "output_type": "stream",
     "text": [
      "(35887, 3)\n"
     ]
    }
   ],
   "source": [
    "#convert pandas dataframe to numpy array\n",
    "data = dataset.values\n",
    "\n",
    "print(data.shape)"
   ]
  },
  {
   "cell_type": "code",
   "execution_count": 10,
   "metadata": {},
   "outputs": [
    {
     "name": "stdout",
     "output_type": "stream",
     "text": [
      "(35887, 2304)\n",
      "(35887,)\n"
     ]
    }
   ],
   "source": [
    "num_images = data.shape[0]\n",
    "#convert data into inout and output values\n",
    "y = data[:,0]\n",
    "\n",
    "#intialising x with shape of (input_images, (48 * 48))\n",
    "#where 48 * 48 is the shape of each image\n",
    "X = np.zeros((num_images, 48 * 48))\n",
    "\n",
    "#initialize a temp variable with pixel values of each image\n",
    "temp = data[:,1]\n",
    "\n",
    "#filling x with pixel values of each image\n",
    "for ix in range(num_images):\n",
    "    t = temp[ix].split(' ')\n",
    "    for iy in range(X.shape[1]):\n",
    "        X[ix,iy] = int(t[iy])\n",
    "\n",
    "print(X.shape)\n",
    "print(y.shape)"
   ]
  },
  {
   "cell_type": "code",
   "execution_count": 11,
   "metadata": {},
   "outputs": [
    {
     "name": "stdout",
     "output_type": "stream",
     "text": [
      "[70. 80. 82. 72. 58. 58. 60. 63. 54. 58.]\n"
     ]
    }
   ],
   "source": [
    "#Before Normalization\n",
    "print(X[0, :10])"
   ]
  },
  {
   "cell_type": "code",
   "execution_count": 12,
   "metadata": {},
   "outputs": [
    {
     "name": "stdout",
     "output_type": "stream",
     "text": [
      "X_Shape:  (35887, 2304)\n",
      "[-0.60646962 -0.4562069  -0.4011047  -0.50456157 -0.67067463 -0.66569461\n",
      " -0.6410465  -0.60871772 -0.75621507 -0.73092633]\n"
     ]
    }
   ],
   "source": [
    "#Normalizing images pixel values\n",
    "X -= np.mean(X, axis = 0)\n",
    "X /= np.std(X, axis = 0)\n",
    "\n",
    "print('X_Shape: ', X.shape)\n",
    "print(X[0, :10])"
   ]
  },
  {
   "cell_type": "code",
   "execution_count": 13,
   "metadata": {},
   "outputs": [
    {
     "name": "stdout",
     "output_type": "stream",
     "text": [
      "(35887, 7)\n"
     ]
    }
   ],
   "source": [
    "y = np_utils.to_categorical(y)\n",
    "print(y.shape)"
   ]
  },
  {
   "cell_type": "code",
   "execution_count": 14,
   "metadata": {},
   "outputs": [],
   "source": [
    "split = int(0.85 * num_images)\n",
    "\n",
    "x_train = X[:split]\n",
    "x_test = X[split:]\n",
    "\n",
    "y_train = y[:split]\n",
    "y_test = y[split:]"
   ]
  },
  {
   "cell_type": "code",
   "execution_count": 15,
   "metadata": {},
   "outputs": [
    {
     "name": "stdout",
     "output_type": "stream",
     "text": [
      "x_train shape (30503, 2304)\n",
      "y_train shape (30503, 7)\n",
      "x_test shape (5384, 2304)\n",
      "y_test shape (5384, 7)\n"
     ]
    }
   ],
   "source": [
    "print('x_train shape', x_train.shape)\n",
    "print('y_train shape', y_train.shape)\n",
    "\n",
    "print('x_test shape', x_test.shape)\n",
    "print('y_test shape', y_test.shape)"
   ]
  },
  {
   "cell_type": "code",
   "execution_count": null,
   "metadata": {},
   "outputs": [],
   "source": [
    "#Defining our model\n",
    "model = Sequential()\n",
    "model.add(Conv2D(32, (5, 5), padding='same', activation='relu', input_shape=(1, 48, 48)))\n",
    "model.add(Conv2D(32, (5, 5), padding='same', activation='relu'))\n",
    "model.add(Conv2D(32, (5, 5), padding='same', activation='relu'))\n",
    "model.add(MaxPooling2D(pool_size=(2,2)))\n",
    " \n",
    "model.add(Conv2D(64, (3, 3), padding='same', activation='relu'))\n",
    "model.add(Conv2D(64, (3, 3), padding='same', activation='relu'))\n",
    "model.add(Conv2D(64, (3, 3), padding='same', activation='relu'))\n",
    "model.add(MaxPooling2D(pool_size=(2,2)))\n",
    "\n",
    "model.add(Conv2D(128, (3, 3), padding='same', activation='relu'))\n",
    "model.add(Conv2D(128, (3, 3), padding='same', activation='relu'))\n",
    "model.add(Conv2D(128, (3, 3), padding='same', activation='relu'))\n",
    "model.add(MaxPooling2D(pool_size=(2,2)))\n",
    "\n",
    "model.add(Flatten())\n",
    "model.add(Dense(128, activation='relu'))\n",
    "model.add(Dropout(.5))\n",
    "model.add(Dense(7, activation='softmax'))\n",
    "\n",
    "model.summary()\n",
    "\n",
    "conv_model.compile(loss='categorical_crossentropy', optimizer='adam',\n",
    "                  metrics=['accuracy'])"
   ]
  }
 ],
 "metadata": {
  "kernelspec": {
   "display_name": "Python 3",
   "language": "python",
   "name": "python3"
  },
  "language_info": {
   "codemirror_mode": {
    "name": "ipython",
    "version": 3
   },
   "file_extension": ".py",
   "mimetype": "text/x-python",
   "name": "python",
   "nbconvert_exporter": "python",
   "pygments_lexer": "ipython3",
   "version": "3.5.2"
  }
 },
 "nbformat": 4,
 "nbformat_minor": 2
}
